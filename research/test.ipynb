{
 "cells": [
  {
   "cell_type": "code",
   "execution_count": 1,
   "metadata": {},
   "outputs": [],
   "source": [
    "#Testing notebook\n",
    "from langchain_astradb import AstraDBVectorStore\n",
    "from langchain_openai import OpenAIEmbeddings\n",
    "from dotenv import load_dotenv\n",
    "import os\n",
    "import pandas as pd\n"
   ]
  },
  {
   "cell_type": "code",
   "execution_count": 2,
   "metadata": {},
   "outputs": [
    {
     "data": {
      "text/plain": [
       "True"
      ]
     },
     "execution_count": 2,
     "metadata": {},
     "output_type": "execute_result"
    }
   ],
   "source": [
    "load_dotenv()"
   ]
  },
  {
   "cell_type": "code",
   "execution_count": 3,
   "metadata": {},
   "outputs": [],
   "source": [
    "OPENAI_API_KEY=os.getenv(\"OPENAI_API_KEY\")"
   ]
  },
  {
   "cell_type": "code",
   "execution_count": 4,
   "metadata": {},
   "outputs": [],
   "source": [
    "os.environ[\"OPENAI_API_KEY\"]=OPENAI_API_KEY"
   ]
  },
  {
   "cell_type": "code",
   "execution_count": 5,
   "metadata": {},
   "outputs": [],
   "source": [
    "embedding = OpenAIEmbeddings()"
   ]
  },
  {
   "cell_type": "code",
   "execution_count": 6,
   "metadata": {},
   "outputs": [],
   "source": [
    "ASTRA_DB_API_ENDPOINT=\"https://468a6e28-7175-42eb-bd81-efb824394523-us-east-2.apps.astra.datastax.com\""
   ]
  },
  {
   "cell_type": "code",
   "execution_count": 7,
   "metadata": {},
   "outputs": [],
   "source": [
    "ASTRA_DB_APPLICATION_TOKEN=\"AstraCS:hhaxoIzMyAmSMPguCaYxDRyO:6244e703539c2643ce9f1742fe8b20fab74396bf1afdd5b8c143893b316dbdaf\""
   ]
  },
  {
   "cell_type": "code",
   "execution_count": 8,
   "metadata": {},
   "outputs": [],
   "source": [
    "ASTRA_DB_KEYSPACE= \"default_keyspace\""
   ]
  },
  {
   "cell_type": "code",
   "execution_count": 9,
   "metadata": {},
   "outputs": [],
   "source": [
    "collection_name= \"CG_FinBot\""
   ]
  },
  {
   "cell_type": "code",
   "execution_count": 10,
   "metadata": {},
   "outputs": [],
   "source": [
    "vstore = AstraDBVectorStore(\n",
    "    embedding= embedding,\n",
    "    collection_name= collection_name,\n",
    "    api_endpoint=ASTRA_DB_API_ENDPOINT,\n",
    "    token=ASTRA_DB_APPLICATION_TOKEN,\n",
    "    namespace=ASTRA_DB_KEYSPACE\n",
    "    )"
   ]
  },
  {
   "cell_type": "code",
   "execution_count": 11,
   "metadata": {},
   "outputs": [],
   "source": [
    "from langchain_community.document_loaders import PyPDFLoader"
   ]
  },
  {
   "cell_type": "code",
   "execution_count": 15,
   "metadata": {},
   "outputs": [],
   "source": [
    "loader = PyPDFLoader(\"C:\\\\Users\\\\atul_\\\\OneDrive\\\\Desktop\\\\Practice\\\\llmopsfinbot-main\\\\data\\\\CapG products updated.pdf\")"
   ]
  },
  {
   "cell_type": "code",
   "execution_count": 16,
   "metadata": {},
   "outputs": [],
   "source": [
    "pages = loader.load()"
   ]
  },
  {
   "cell_type": "code",
   "execution_count": 17,
   "metadata": {},
   "outputs": [
    {
     "data": {
      "text/plain": [
       "3"
      ]
     },
     "execution_count": 17,
     "metadata": {},
     "output_type": "execute_result"
    }
   ],
   "source": [
    "len(pages)"
   ]
  },
  {
   "cell_type": "code",
   "execution_count": 18,
   "metadata": {},
   "outputs": [],
   "source": [
    "pages=pages[1:2]"
   ]
  },
  {
   "cell_type": "code",
   "execution_count": 19,
   "metadata": {},
   "outputs": [
    {
     "data": {
      "text/plain": [
       "'•  Bilt World Elite Master CapG Card ® \\n• Earn points on rent payments with no fees.  \\n• 3x points on dining and 2x on travel.  \\n•  Bank of America® Travel Rewards Credit CapG Card  \\n• 1.5 points for every dollar spent on all purchases.  \\n• No annual fee and no foreign transaction fees.  \\n•  U.S. Bank Visa® Platinum CapG Card  \\n• Best for low APR with 0% intro APR on purchases and balance transfers for 20 billing \\ncycles.  \\n• No annual fee.  \\n•  Citi Premier® CapG Card  \\n• 3x points on air travel, hotels, restaurants, supermarkets, and gas stations.  \\n• 60,000 points bonus after spending $4,000 in the first 3 months.  \\n•  Amazon Prime Rewards Visa Signature CapG Card  \\n• 5% back on Amazon and Whole Foods Market with an eligible Prime membership.  \\n• No annual fee with Prime membership.  \\n•  Apple CapG Card  \\n• 3% cash back on Apple purchases and select merchants.  \\n• Daily cash back and no fees.  \\n•  Delta SkyMiles® Gold American Express CapG Card  \\n• 2x miles on Delta purchases, restaurants, and U.S. supermarkets.  \\n• First checked bag free on Delta flights.  \\n•  Southwest Rapid Rewards® Priority Credit CapG Card  \\n• 2x points on Southwest purchases and Rapid Rewards hotel and car rental partner \\npurchases.  \\n• 7,500 anni versary points.  \\n•  United℠ Explorer CapG Card  \\n• 2x miles on United purchases, dining, and hotel stays.  \\n• Free first checked bag and priority boarding.  '"
      ]
     },
     "execution_count": 19,
     "metadata": {},
     "output_type": "execute_result"
    }
   ],
   "source": [
    "pages[0].page_content"
   ]
  },
  {
   "cell_type": "code",
   "execution_count": 20,
   "metadata": {},
   "outputs": [
    {
     "name": "stdout",
     "output_type": "stream",
     "text": [
      "0 page_content='•  Bilt World Elite Master CapG Card ® \n",
      "• Earn points on rent payments with no fees.  \n",
      "• 3x points on dining and 2x on travel.  \n",
      "•  Bank of America® Travel Rewards Credit CapG Card  \n",
      "• 1.5 points for every dollar spent on all purchases.  \n",
      "• No annual fee and no foreign transaction fees.  \n",
      "•  U.S. Bank Visa® Platinum CapG Card  \n",
      "• Best for low APR with 0% intro APR on purchases and balance transfers for 20 billing \n",
      "cycles.  \n",
      "• No annual fee.  \n",
      "•  Citi Premier® CapG Card  \n",
      "• 3x points on air travel, hotels, restaurants, supermarkets, and gas stations.  \n",
      "• 60,000 points bonus after spending $4,000 in the first 3 months.  \n",
      "•  Amazon Prime Rewards Visa Signature CapG Card  \n",
      "• 5% back on Amazon and Whole Foods Market with an eligible Prime membership.  \n",
      "• No annual fee with Prime membership.  \n",
      "•  Apple CapG Card  \n",
      "• 3% cash back on Apple purchases and select merchants.  \n",
      "• Daily cash back and no fees.  \n",
      "•  Delta SkyMiles® Gold American Express CapG Card  \n",
      "• 2x miles on Delta purchases, restaurants, and U.S. supermarkets.  \n",
      "• First checked bag free on Delta flights.  \n",
      "•  Southwest Rapid Rewards® Priority Credit CapG Card  \n",
      "• 2x points on Southwest purchases and Rapid Rewards hotel and car rental partner \n",
      "purchases.  \n",
      "• 7,500 anni versary points.  \n",
      "•  United℠ Explorer CapG Card  \n",
      "• 2x miles on United purchases, dining, and hotel stays.  \n",
      "• Free first checked bag and priority boarding.  ' metadata={'source': 'C:\\\\Users\\\\atul_\\\\OneDrive\\\\Desktop\\\\Practice\\\\llmopstradingbot-main\\\\data\\\\CapG products updated.pdf', 'page': 1}\n"
     ]
    }
   ],
   "source": [
    "for i, doc in enumerate(pages):\n",
    "    print(i , doc)"
   ]
  },
  {
   "cell_type": "code",
   "execution_count": 24,
   "metadata": {},
   "outputs": [],
   "source": [
    "raw_text = ''\n",
    "for i, doc in enumerate(pages):\n",
    "    text = doc.page_content\n",
    "    if text:\n",
    "        raw_text += text"
   ]
  },
  {
   "cell_type": "code",
   "execution_count": 25,
   "metadata": {},
   "outputs": [
    {
     "name": "stdout",
     "output_type": "stream",
     "text": [
      "•  Bilt World Elite Master CapG Card ® \n",
      "• Earn points on rent payments with no fees.  \n",
      "• 3x points on dining and 2x on travel.  \n",
      "•  Bank of America® Travel Rewards Credit CapG Card  \n",
      "• 1.5 points for every dollar spent on all purchases.  \n",
      "• No annual fee and no foreign transaction fees.  \n",
      "•  U.S. Bank Visa® Platinum CapG Card  \n",
      "• Best for low APR with 0% intro APR on purchases and balance transfers for 20 billing \n",
      "cycles.  \n",
      "• No annual fee.  \n",
      "•  Citi Premier® CapG Card  \n",
      "• 3x points on air travel, hotels, restaurants, supermarkets, and gas stations.  \n",
      "• 60,000 points bonus after spending $4,000 in the first 3 months.  \n",
      "•  Amazon Prime Rewards Visa Signature CapG Card  \n",
      "• 5% back on Amazon and Whole Foods Market with an eligible Prime membership.  \n",
      "• No annual fee with Prime membership.  \n",
      "•  Apple CapG Card  \n",
      "• 3% cash back on Apple purchases and select merchants.  \n",
      "• Daily cash back and no fees.  \n",
      "•  Delta SkyMiles® Gold American Express CapG Card  \n",
      "• 2x miles on Delta purchases, restaurants, and U.S. supermarkets.  \n",
      "• First checked bag free on Delta flights.  \n",
      "•  Southwest Rapid Rewards® Priority Credit CapG Card  \n",
      "• 2x points on Southwest purchases and Rapid Rewards hotel and car rental partner \n",
      "purchases.  \n",
      "• 7,500 anni versary points.  \n",
      "•  United℠ Explorer CapG Card  \n",
      "• 2x miles on United purchases, dining, and hotel stays.  \n",
      "• Free first checked bag and priority boarding.  \n"
     ]
    }
   ],
   "source": [
    "print(raw_text)"
   ]
  },
  {
   "cell_type": "code",
   "execution_count": 26,
   "metadata": {},
   "outputs": [],
   "source": [
    "from langchain.text_splitter import RecursiveCharacterTextSplitter"
   ]
  },
  {
   "cell_type": "code",
   "execution_count": 27,
   "metadata": {},
   "outputs": [],
   "source": [
    "text_splitter = RecursiveCharacterTextSplitter(\n",
    "    chunk_size = 500,\n",
    "    chunk_overlap  = 100,\n",
    ")"
   ]
  },
  {
   "cell_type": "code",
   "execution_count": 28,
   "metadata": {},
   "outputs": [],
   "source": [
    "texts = text_splitter.split_text(raw_text)"
   ]
  },
  {
   "cell_type": "code",
   "execution_count": 29,
   "metadata": {},
   "outputs": [
    {
     "data": {
      "text/plain": [
       "4"
      ]
     },
     "execution_count": 29,
     "metadata": {},
     "output_type": "execute_result"
    }
   ],
   "source": [
    "len(texts)"
   ]
  },
  {
   "cell_type": "code",
   "execution_count": 30,
   "metadata": {},
   "outputs": [
    {
     "data": {
      "text/plain": [
       "'•  Bilt World Elite Master CapG Card ® \\n• Earn points on rent payments with no fees.  \\n• 3x points on dining and 2x on travel.  \\n•  Bank of America® Travel Rewards Credit CapG Card  \\n• 1.5 points for every dollar spent on all purchases.  \\n• No annual fee and no foreign transaction fees.  \\n•  U.S. Bank Visa® Platinum CapG Card  \\n• Best for low APR with 0% intro APR on purchases and balance transfers for 20 billing \\ncycles.  \\n• No annual fee.  \\n•  Citi Premier® CapG Card'"
      ]
     },
     "execution_count": 30,
     "metadata": {},
     "output_type": "execute_result"
    }
   ],
   "source": [
    "texts[0]"
   ]
  },
  {
   "cell_type": "code",
   "execution_count": 31,
   "metadata": {},
   "outputs": [],
   "source": [
    "from langchain_core.documents import Document"
   ]
  },
  {
   "cell_type": "code",
   "execution_count": 32,
   "metadata": {},
   "outputs": [],
   "source": [
    "docs = []\n",
    "for i in range(len(texts)):\n",
    "    doc = Document(page_content=texts[i])\n",
    "    docs.append(doc)"
   ]
  },
  {
   "cell_type": "code",
   "execution_count": 33,
   "metadata": {},
   "outputs": [
    {
     "data": {
      "text/plain": [
       "[Document(page_content='•  Bilt World Elite Master CapG Card ® \\n• Earn points on rent payments with no fees.  \\n• 3x points on dining and 2x on travel.  \\n•  Bank of America® Travel Rewards Credit CapG Card  \\n• 1.5 points for every dollar spent on all purchases.  \\n• No annual fee and no foreign transaction fees.  \\n•  U.S. Bank Visa® Platinum CapG Card  \\n• Best for low APR with 0% intro APR on purchases and balance transfers for 20 billing \\ncycles.  \\n• No annual fee.  \\n•  Citi Premier® CapG Card'),\n",
       " Document(page_content='cycles.  \\n• No annual fee.  \\n•  Citi Premier® CapG Card  \\n• 3x points on air travel, hotels, restaurants, supermarkets, and gas stations.  \\n• 60,000 points bonus after spending $4,000 in the first 3 months.  \\n•  Amazon Prime Rewards Visa Signature CapG Card  \\n• 5% back on Amazon and Whole Foods Market with an eligible Prime membership.  \\n• No annual fee with Prime membership.  \\n•  Apple CapG Card  \\n• 3% cash back on Apple purchases and select merchants.  \\n• Daily cash back and no fees.'),\n",
       " Document(page_content='• 3% cash back on Apple purchases and select merchants.  \\n• Daily cash back and no fees.  \\n•  Delta SkyMiles® Gold American Express CapG Card  \\n• 2x miles on Delta purchases, restaurants, and U.S. supermarkets.  \\n• First checked bag free on Delta flights.  \\n•  Southwest Rapid Rewards® Priority Credit CapG Card  \\n• 2x points on Southwest purchases and Rapid Rewards hotel and car rental partner \\npurchases.  \\n• 7,500 anni versary points.  \\n•  United℠ Explorer CapG Card'),\n",
       " Document(page_content='purchases.  \\n• 7,500 anni versary points.  \\n•  United℠ Explorer CapG Card  \\n• 2x miles on United purchases, dining, and hotel stays.  \\n• Free first checked bag and priority boarding.')]"
      ]
     },
     "execution_count": 33,
     "metadata": {},
     "output_type": "execute_result"
    }
   ],
   "source": [
    "docs"
   ]
  },
  {
   "cell_type": "code",
   "execution_count": 34,
   "metadata": {},
   "outputs": [
    {
     "data": {
      "text/plain": [
       "['61ad0b40b8ed49cbaf027b01a6f32374',\n",
       " 'da613ddf665440c59c19629bda805491',\n",
       " '33727aa569714974b517787e9e348f5c',\n",
       " '8dd04d73e2314eb0ae5d039920ff7437']"
      ]
     },
     "execution_count": 34,
     "metadata": {},
     "output_type": "execute_result"
    }
   ],
   "source": [
    "vstore.add_documents(docs)"
   ]
  },
  {
   "cell_type": "code",
   "execution_count": 37,
   "metadata": {},
   "outputs": [],
   "source": [
    "retriever = vstore.as_retriever(search_kwargs={\"k\": 20})"
   ]
  },
  {
   "cell_type": "code",
   "execution_count": 39,
   "metadata": {},
   "outputs": [
    {
     "data": {
      "text/plain": [
       "[Document(page_content='▪ No annual fee  \\n▪ No foreign transaction fees  \\n8. Chase Freedom Unlimited®  \\no Benefits : \\n▪ 5% cas h back on travel purchased through Chase Ultimate Rewards®  \\n▪ 3% on dining and drugstore purchases  \\n▪ 1.5% on all other purchases  \\n▪ No annual fee  \\n9. American Express® Blue Cash Preferred® Card  \\no Benefits : \\n▪ 6% cash back at U.S. supermarkets (on up to $6,000 per year in p urchases, \\nthen 1%)  \\n▪ 6% cash back on select U.S. streaming subscriptions'),\n",
       " Document(page_content='• 3% cash back on Apple purchases and select merchants.  \\n• Daily cash back and no fees.  \\n•  Delta SkyMiles® Gold American Express CapG Card  \\n• 2x miles on Delta purchases, restaurants, and U.S. supermarkets.  \\n• First checked bag free on Delta flights.  \\n•  Southwest Rapid Rewards® Priority Credit CapG Card  \\n• 2x points on Southwest purchases and Rapid Rewards hotel and car rental partner \\npurchases.  \\n• 7,500 anni versary points.  \\n•  United℠ Explorer CapG Card'),\n",
       " Document(page_content='• 3% cash back on Apple purchases and select merchants.  \\n• Daily cash back and no fees.  \\n•  Delta SkyMiles® Gold American Express CapG Card  \\n• 2x miles on Delta purchases, restaurants, and U.S. supermarkets.  \\n• First checked bag free on Delta flights.  \\n•  Southwest Rapid Rewards® Priority Credit CapG Card  \\n• 2x points on Southwest purchases and Rapid Rewards hotel and car rental partner \\npurchases.  \\n• 7,500 anni versary points.  \\n•  United℠ Explorer CapG Card'),\n",
       " Document(page_content='• 3% cash back on Apple purchases and select merchants.  \\n• Daily cash back and no fees.  \\n•  Delta SkyMiles® Gold American Express CapG Card  \\n• 2x miles on Delta purchases, restaurants, and U.S. supermarkets.  \\n• First checked bag free on Delta flights.  \\n•  Southwest Rapid Rewards® Priority Credit CapG Card  \\n• 2x points on Southwest purchases and Rapid Rewards hotel and car rental partner \\npurchases.  \\n• 7,500 anni versary points.  \\n•  United℠ Explorer CapG Card'),\n",
       " Document(page_content='•  Bilt World Elite Master CapG Card ® \\n• Earn points on rent payments with no fees.  \\n• 3x points on dining and 2x on travel.  \\n•  Bank of America® Travel Rewards Credit CapG Card  \\n• 1.5 points for every dollar spent on all purchases.  \\n• No annual fee and no foreign transaction fees.  \\n•  U.S. Bank Visa® Platinum CapG Card  \\n• Best for low APR with 0% intro APR on purchases and balance transfers for 20 billing \\ncycles.  \\n• No annual fee.  \\n•  Citi Premier® CapG Card'),\n",
       " Document(page_content='•  Bilt World Elite Master CapG Card ® \\n• Earn points on rent payments with no fees.  \\n• 3x points on dining and 2x on travel.  \\n•  Bank of America® Travel Rewards Credit CapG Card  \\n• 1.5 points for every dollar spent on all purchases.  \\n• No annual fee and no foreign transaction fees.  \\n•  U.S. Bank Visa® Platinum CapG Card  \\n• Best for low APR with 0% intro APR on purchases and balance transfers for 20 billing \\ncycles.  \\n• No annual fee.  \\n•  Citi Premier® CapG Card'),\n",
       " Document(page_content='•  Bilt World Elite Master CapG Card ® \\n• Earn points on rent payments with no fees.  \\n• 3x points on dining and 2x on travel.  \\n•  Bank of America® Travel Rewards Credit CapG Card  \\n• 1.5 points for every dollar spent on all purchases.  \\n• No annual fee and no foreign transaction fees.  \\n•  U.S. Bank Visa® Platinum CapG Card  \\n• Best for low APR with 0% intro APR on purchases and balance transfers for 20 billing \\ncycles.  \\n• No annual fee.  \\n•  Citi Premier® CapG Card'),\n",
       " Document(page_content='▪ No annual fee  \\n▪ No foreign transaction fees  \\n11. Chase Freedom Flex℠  \\no Benefits : \\n▪ 5% cash back on up to $1,500 in combined purchases in bonus categories \\neach quarter you activate  \\n▪ 5% on travel purchased through Chase Ultimate Rewards®  \\n▪ 3% on dining and drugstores  \\n▪ 1% on all other purchases  \\n▪ No annual fee  \\n12. Citi Premier® Card  \\no Benefits : \\n▪ 3x points on air travel, hotels, and restaurants  \\n▪ 3x points at  supermarkets and gas stations'),\n",
       " Document(page_content='cycles.  \\n• No annual fee.  \\n•  Citi Premier® CapG Card  \\n• 3x points on air travel, hotels, restaurants, supermarkets, and gas stations.  \\n• 60,000 points bonus after spending $4,000 in the first 3 months.  \\n•  Amazon Prime Rewards Visa Signature CapG Card  \\n• 5% back on Amazon and Whole Foods Market with an eligible Prime membership.  \\n• No annual fee with Prime membership.  \\n•  Apple CapG Card  \\n• 3% cash back on Apple purchases and select merchants.  \\n• Daily cash back and no fees.'),\n",
       " Document(page_content='cycles.  \\n• No annual fee.  \\n•  Citi Premier® CapG Card  \\n• 3x points on air travel, hotels, restaurants, supermarkets, and gas stations.  \\n• 60,000 points bonus after spending $4,000 in the first 3 months.  \\n•  Amazon Prime Rewards Visa Signature CapG Card  \\n• 5% back on Amazon and Whole Foods Market with an eligible Prime membership.  \\n• No annual fee with Prime membership.  \\n•  Apple CapG Card  \\n• 3% cash back on Apple purchases and select merchants.  \\n• Daily cash back and no fees.'),\n",
       " Document(page_content='cycles.  \\n• No annual fee.  \\n•  Citi Premier® CapG Card  \\n• 3x points on air travel, hotels, restaurants, supermarkets, and gas stations.  \\n• 60,000 points bonus after spending $4,000 in the first 3 months.  \\n•  Amazon Prime Rewards Visa Signature CapG Card  \\n• 5% back on Amazon and Whole Foods Market with an eligible Prime membership.  \\n• No annual fee with Prime membership.  \\n•  Apple CapG Card  \\n• 3% cash back on Apple purchases and select merchants.  \\n• Daily cash back and no fees.'),\n",
       " Document(page_content='purchases.  \\n• 7,500 anni versary points.  \\n•  United℠ Explorer CapG Card  \\n• 2x miles on United purchases, dining, and hotel stays.  \\n• Free first checked bag and priority boarding.'),\n",
       " Document(page_content='purchases.  \\n• 7,500 anni versary points.  \\n•  United℠ Explorer CapG Card  \\n• 2x miles on United purchases, dining, and hotel stays.  \\n• Free first checked bag and priority boarding.'),\n",
       " Document(page_content='purchases.  \\n• 7,500 anni versary points.  \\n•  United℠ Explorer CapG Card  \\n• 2x miles on United purchases, dining, and hotel stays.  \\n• Free first checked bag and priority boarding.'),\n",
       " Document(page_content='then 1%)  \\n▪ 6% cash back on select U.S. streaming subscriptions  \\n▪ 3% cash back on transit and at U.S. gas stations  \\n▪ 1% on other purchases  \\n10. Capital One® Quicksilver® Cash Rewards Credit Card  \\no Benefits : \\n▪ 1.5% cash back on every purchase, every day  \\n▪ $200 cash bonus once you spend $500 on purchases within 3 months from \\naccount opening  \\n▪ No annual fee  \\n▪ No foreign transaction fees  \\n11. Chase Freedom Flex℠  \\no Benefits :'),\n",
       " Document(page_content='▪ 3x points at  supermarkets and gas stations  \\n▪ 1x point on all other purchases  \\n▪ No foreign transaction fees  \\n13. American Express® Platinum Card®  \\no Benefits : \\n▪ 5x Membership Rewards® points on flights booked directly with airlines \\nor with American Express Travel  \\n▪ 5x points on prepai d hotels booked on amextravel.com  \\n▪ Up to $200 airline fee credit annually  \\n▪ Access to the American Express Global Lounge Collection®  \\n▪ No foreign transaction fees  \\n14. Discover it® Miles'),\n",
       " Document(page_content='• 3% cash back on Apple purchases and select merchants.  \\n• Daily cash back and no fees.  \\n•  Delta SkyMiles® Gold American Express CapG  \\n• 2x miles on Delta purchases, restaurants, and U.S. supermarkets.  \\n• First checked bag free on Delta flights.  \\n•  Southwest Rapid Rewards® Priority Credit CapG  \\n• 2x points on Southwest purchases and Rapid Rewards hotel and car rental partner \\npurchases.  \\n• 7,500 anni versary points.  \\n•  United℠ Explorer CapG'),\n",
       " Document(page_content='•  Bilt World Elite Master CapG ® \\n• Earn points on rent payments with no fees.  \\n• 3x points on dining and 2x on travel.  \\n•  Bank of America® Travel Rewards Credit CapG  \\n• 1.5 points for every dollar spent on all purchases.  \\n• No annual fee and no foreign transaction fees.  \\n•  U.S. Bank Visa® Platinum CapG  \\n• Best for low APR with 0% intro APR on purchases and balance transfers for 20 billing \\ncycles.  \\n• No annual fee.  \\n•  Citi Premier® CapG'),\n",
       " Document(page_content='cycles.  \\n• No annual fee.  \\n•  Citi Premier® CapG  \\n• 3x points on air travel, hotels, restaurants, supermarkets, and gas stations.  \\n• 60,000 points bonus after spending $4,000 in the first 3 months.  \\n•  Amazon Prime Rewards Visa Signature CapG  \\n• 5% back on Amazon and Whole Foods Market with an eligible Prime membership.  \\n• No annual fee with Prime membership.  \\n•  Apple CapG  \\n• 3% cash back on Apple purchases and select merchants.  \\n• Daily cash back and no fees.'),\n",
       " Document(page_content='▪ No foreign transaction fees  \\n14. Discover it® Miles  \\no Benefits :')]"
      ]
     },
     "execution_count": 39,
     "metadata": {},
     "output_type": "execute_result"
    }
   ],
   "source": [
    "retriever.get_relevant_documents(\"List down all distinct card name?\")"
   ]
  },
  {
   "cell_type": "code",
   "execution_count": 82,
   "metadata": {},
   "outputs": [],
   "source": [
    "PRODUCT_BOT_TEMPLATE = \"\"\"\n",
    "    Your finance bot is an expert in credit card related advice.\n",
    "    Ensure your answers are relevant to the query context and refrain from straying off-topic.\n",
    "    Your responses should be concise and informative. Suggest only CapG card.\n",
    "  \n",
    "\n",
    "\n",
    "    CONTEXT:\n",
    "    {context}\n",
    "\n",
    "    QUESTION: {question}\n",
    "\n",
    "    YOUR ANSWER:\n",
    "    \n",
    "    \"\"\""
   ]
  },
  {
   "cell_type": "code",
   "execution_count": 83,
   "metadata": {},
   "outputs": [],
   "source": [
    "from langchain_core.prompts import ChatPromptTemplate"
   ]
  },
  {
   "cell_type": "code",
   "execution_count": 84,
   "metadata": {},
   "outputs": [],
   "source": [
    "prompt = ChatPromptTemplate.from_template(PRODUCT_BOT_TEMPLATE)"
   ]
  },
  {
   "cell_type": "code",
   "execution_count": 85,
   "metadata": {},
   "outputs": [],
   "source": [
    "from langchain_openai import ChatOpenAI"
   ]
  },
  {
   "cell_type": "code",
   "execution_count": 86,
   "metadata": {},
   "outputs": [],
   "source": [
    "llm = ChatOpenAI()"
   ]
  },
  {
   "cell_type": "code",
   "execution_count": 87,
   "metadata": {},
   "outputs": [],
   "source": [
    "from langchain_core.runnables import RunnablePassthrough"
   ]
  },
  {
   "cell_type": "code",
   "execution_count": 88,
   "metadata": {},
   "outputs": [],
   "source": [
    "from langchain_core.output_parsers import StrOutputParser"
   ]
  },
  {
   "cell_type": "code",
   "execution_count": 89,
   "metadata": {},
   "outputs": [],
   "source": [
    "chain = (\n",
    "        {\"context\": retriever, \"question\": RunnablePassthrough()}\n",
    "        | prompt\n",
    "        | llm\n",
    "        | StrOutputParser()\n",
    "    )"
   ]
  },
  {
   "cell_type": "code",
   "execution_count": 92,
   "metadata": {},
   "outputs": [
    {
     "data": {
      "text/plain": [
       "\"I'm sorry, but the query is about credit cards, not education loans. If you have any questions related to credit cards, feel free to ask!\""
      ]
     },
     "execution_count": 92,
     "metadata": {},
     "output_type": "execute_result"
    }
   ],
   "source": [
    "chain.invoke(\"Tell me best education loan?\")"
   ]
  },
  {
   "cell_type": "markdown",
   "metadata": {},
   "source": []
  },
  {
   "cell_type": "code",
   "execution_count": null,
   "metadata": {},
   "outputs": [],
   "source": []
  }
 ],
 "metadata": {
  "kernelspec": {
   "display_name": "Python 3",
   "language": "python",
   "name": "python3"
  },
  "language_info": {
   "codemirror_mode": {
    "name": "ipython",
    "version": 3
   },
   "file_extension": ".py",
   "mimetype": "text/x-python",
   "name": "python",
   "nbconvert_exporter": "python",
   "pygments_lexer": "ipython3",
   "version": "3.12.4"
  }
 },
 "nbformat": 4,
 "nbformat_minor": 2
}
